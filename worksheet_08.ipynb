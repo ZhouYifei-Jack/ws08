{
 "cells": [
  {
   "attachments": {},
   "cell_type": "markdown",
   "metadata": {},
   "source": [
    "# Worksheet 08\n",
    "\n",
    "Name:  Yifei Zhou  \n",
    "UID: u25549843 \n",
    "\n",
    "### Topics\n",
    "\n",
    "- Soft Clustering\n",
    "- Clustering Aggregation\n",
    "\n",
    "### Probability Review\n",
    "\n",
    "Read through [the following](https://medium.com/@gallettilance/overview-of-probability-3272b72c82c8)\n",
    "\n",
    "### Soft Clustering\n",
    "\n",
    "We generate 10 data points that come from a normal distribution with mean 5 and variance 1."
   ]
  },
  {
   "cell_type": "code",
   "execution_count": 1,
   "metadata": {},
   "outputs": [
    {
     "name": "stdout",
     "output_type": "stream",
     "text": [
      "[5.239014420387377, 4.138691208009267, 6.357646317073613, 5.3304250370681565, 4.428695932535211, 6.057103782665105, 2.748502542823276, 3.793195791456715, 5.003250442593126, 5.157532784999163]\n"
     ]
    }
   ],
   "source": [
    "import random\n",
    "import numpy as np\n",
    "from sklearn.cluster import KMeans\n",
    "\n",
    "mean = 5\n",
    "stdev = 1\n",
    "\n",
    "s1 = np.random.normal(mean, stdev, 10).tolist()\n",
    "print(s1)"
   ]
  },
  {
   "cell_type": "markdown",
   "metadata": {},
   "source": [
    "a) Generate 10 more data points, this time coming from a normal distribution with mean 8 and variance 1."
   ]
  },
  {
   "cell_type": "code",
   "execution_count": 3,
   "metadata": {},
   "outputs": [
    {
     "name": "stdout",
     "output_type": "stream",
     "text": [
      "[5.773410649343614, 8.357190078077839, 7.867754523139237, 9.25381077546088, 6.6317674222249865, 7.75546902337564, 6.3182184089382645, 7.035623439783415, 7.050576014563395, 8.523764873205312]\n"
     ]
    }
   ],
   "source": [
    "s2 = np.random.normal(8, 1, 10).tolist()\n",
    "print(s2)"
   ]
  },
  {
   "cell_type": "markdown",
   "metadata": {},
   "source": [
    "b) Flip a fair coin 10 times. If the coin lands on H, then pick the last data point of `c1` and remove it from `c1`, if T then pick the last data point from `c2` and remove it from `c2`. Add these 10 points to a list called `data`."
   ]
  },
  {
   "cell_type": "code",
   "execution_count": 4,
   "metadata": {},
   "outputs": [
    {
     "name": "stdout",
     "output_type": "stream",
     "text": [
      "[5.157532784999163, 5.003250442593126, 8.523764873205312, 3.793195791456715, 7.050576014563395, 2.748502542823276, 7.035623439783415, 6.057103782665105, 6.3182184089382645, 4.428695932535211]\n"
     ]
    }
   ],
   "source": [
    "data = []\n",
    "for i in range(10):\n",
    "    # flip coin\n",
    "    coin_output = random.choice([0, 1])\n",
    "    if coin_output == 0:\n",
    "        p1 = s1.pop()\n",
    "        data.append(p1)\n",
    "    else:\n",
    "        p2 = s2.pop()\n",
    "        data.append(p2)\n",
    "print(data)"
   ]
  },
  {
   "cell_type": "markdown",
   "metadata": {},
   "source": [
    "c) This `data` is a Gaussian Mixture Distribution with 2 mixture components. Over the next few questions we will walk through the GMM algorithm to see if we can uncover the parameters we used to generate this data. First, please list all these parameters of the GMM that created `data` and the values we know they have."
   ]
  },
  {
   "cell_type": "markdown",
   "metadata": {},
   "source": []
  },
  {
   "cell_type": "markdown",
   "metadata": {},
   "source": [
    "d) Let's assume there are two mixture components (note: we could plot the data and make the observation that there are two clusters). The EM algorithm asks us to start with a random `mean_j`, `variance_j`, `P(S_j)` for each component j. One method we could use to find sensible values for these is to apply K means with k=2 here.\n",
    "\n",
    "1. the centroids would be the estimates of the `mean_j`\n",
    "2. the intra-cluster variance could be the estimate of `variance_j`\n",
    "3. the proportion of points in each cluster could be the estimate of `P(S_j)`\n",
    "\n",
    "Go through this process and list the parameter estimates it gives. Are they close or far from the true values?"
   ]
  },
  {
   "cell_type": "code",
   "execution_count": 12,
   "metadata": {},
   "outputs": [
    {
     "name": "stdout",
     "output_type": "stream",
     "text": [
      "[5.157532784999163, 5.003250442593126, 3.793195791456715, 2.748502542823276, 4.428695932535211]\n",
      "[8.523764873205312, 7.050576014563395, 7.035623439783415, 6.057103782665105, 6.3182184089382645]\n",
      "P(S_1) = 0.5,  P(S_2) = 0.5\n",
      "mean_1 = 4.226235498881498,  mean_2 = 6.997057303831099\n",
      "var_1 = 0.7766550325407351,  var_2 = 8.413357968543549\n"
     ]
    },
    {
     "name": "stderr",
     "output_type": "stream",
     "text": [
      "d:\\anaconda\\Lib\\site-packages\\sklearn\\cluster\\_kmeans.py:1412: FutureWarning: The default value of `n_init` will change from 10 to 'auto' in 1.4. Set the value of `n_init` explicitly to suppress the warning\n",
      "  super()._check_params_vs_input(X, default_n_init=10)\n",
      "d:\\anaconda\\Lib\\site-packages\\sklearn\\cluster\\_kmeans.py:1436: UserWarning: KMeans is known to have a memory leak on Windows with MKL, when there are less chunks than available threads. You can avoid it by setting the environment variable OMP_NUM_THREADS=1.\n",
      "  warnings.warn(\n"
     ]
    }
   ],
   "source": [
    "kmeans = KMeans(2, init='k-means++').fit(X=np.array(data).reshape(-1, 1))\n",
    "\n",
    "s1 = [x[0] for x in filter(lambda x: x[1] == 0, zip(data, kmeans.labels_))]\n",
    "print(s1)\n",
    "s2 = [x[0] for x in filter(lambda x: x[1] == 1, zip(data, kmeans.labels_))]\n",
    "print(s2)\n",
    "\n",
    "prob_s = [ len(s1) / (len(s1) + len(s2)) ,len(s2) / (len(s1) + len(s2))  ]\n",
    "mean = [ sum(s1)/len(s1) , sum(s2)/len(s2) ]\n",
    "var = [ sum(map(lambda x : (x - mean[0])**2, s1)) / len(s1) , sum(map(lambda x : (x - mean[0])**2, s2)) / len(s2) ]\n",
    "\n",
    "print(\"P(S_1) = \" + str(prob_s[0]) + \",  P(S_2) = \" + str(prob_s[1]))\n",
    "print(\"mean_1 = \" + str(mean[0]) + \",  mean_2 = \" + str(mean[1]))\n",
    "print(\"var_1 = \" + str(var[0]) + \",  var_2 = \" + str(var[1]))"
   ]
  },
  {
   "cell_type": "markdown",
   "metadata": {},
   "source": []
  },
  {
   "cell_type": "markdown",
   "metadata": {},
   "source": [
    "e) For each data point, compute `P(S_j | X_i)`. Comment on which cluster you think each point belongs to based on the estimated probabilities. How does that compare to the truth?"
   ]
  },
  {
   "cell_type": "code",
   "execution_count": 14,
   "metadata": {},
   "outputs": [
    {
     "name": "stdout",
     "output_type": "stream",
     "text": [
      "point =  5.157532784999163\n",
      "probability of observing that point if it came from cluster 0 =  0.2502948284647668\n",
      "probability of observing that point if it came from cluster 1 =  0.046297761767311\n",
      "point =  5.003250442593126\n",
      "probability of observing that point if it came from cluster 0 =  0.31141057777857\n",
      "probability of observing that point if it came from cluster 1 =  0.04610475300702452\n",
      "point =  8.523764873205312\n",
      "probability of observing that point if it came from cluster 0 =  1.1534473001690347e-07\n",
      "probability of observing that point if it came from cluster 1 =  0.04664341591664174\n",
      "point =  3.793195791456715\n",
      "probability of observing that point if it came from cluster 0 =  0.43971794116825\n",
      "probability of observing that point if it came from cluster 1 =  0.04410130034990973\n",
      "point =  7.050576014563395\n",
      "probability of observing that point if it came from cluster 0 =  0.0006902842084842794\n",
      "probability of observing that point if it came from cluster 1 =  0.047416763972833564\n",
      "point =  2.748502542823276\n",
      "probability of observing that point if it came from cluster 0 =  0.08405430747479084\n",
      "probability of observing that point if it came from cluster 1 =  0.04174146643745543\n",
      "point =  7.035623439783415\n",
      "probability of observing that point if it came from cluster 0 =  0.0007402076549797169\n",
      "probability of observing that point if it came from cluster 1 =  0.047417225151750765\n",
      "point =  6.057103782665105\n",
      "probability of observing that point if it came from cluster 0 =  0.0319114181706013\n",
      "probability of observing that point if it came from cluster 1 =  0.04712271773607763\n",
      "point =  6.3182184089382645\n",
      "probability of observing that point if it came from cluster 0 =  0.013652021232510768\n",
      "probability of observing that point if it came from cluster 1 =  0.0472636247036306\n",
      "point =  4.428695932535211\n",
      "probability of observing that point if it came from cluster 0 =  0.49650722941076053\n",
      "probability of observing that point if it came from cluster 1 =  0.04525895797048699\n",
      "5.157532784999163\n",
      "Probability of coming from S_1 = 0.8439011516400868\n",
      "Probability of coming from S_2 = 0.15609884835991325\n",
      "\n",
      "5.003250442593126\n",
      "Probability of coming from S_1 = 0.8710411861060191\n",
      "Probability of coming from S_2 = 0.12895881389398095\n",
      "\n",
      "8.523764873205312\n",
      "Probability of coming from S_1 = 2.472898747107237e-06\n",
      "Probability of coming from S_2 = 0.9999975271012529\n",
      "\n",
      "3.793195791456715\n",
      "Probability of coming from S_1 = 0.9088475683366255\n",
      "Probability of coming from S_2 = 0.09115243166337449\n",
      "\n",
      "7.050576014563395\n",
      "Probability of coming from S_1 = 0.01434892047174801\n",
      "Probability of coming from S_2 = 0.985651079528252\n",
      "\n",
      "2.748502542823276\n",
      "Probability of coming from S_1 = 0.6681806936807446\n",
      "Probability of coming from S_2 = 0.33181930631925527\n",
      "\n",
      "7.035623439783415\n",
      "Probability of coming from S_1 = 0.015370579614373995\n",
      "Probability of coming from S_2 = 0.9846294203856261\n",
      "\n",
      "6.057103782665105\n",
      "Probability of coming from S_1 = 0.40376753417385775\n",
      "Probability of coming from S_2 = 0.5962324658261423\n",
      "\n",
      "6.3182184089382645\n",
      "Probability of coming from S_1 = 0.22411354296107033\n",
      "Probability of coming from S_2 = 0.7758864570389297\n",
      "\n",
      "4.428695932535211\n",
      "Probability of coming from S_1 = 0.9164603494558111\n",
      "Probability of coming from S_2 = 0.08353965054418892\n",
      "\n"
     ]
    }
   ],
   "source": [
    "from scipy.stats import norm\n",
    "\n",
    "prob_s0_x = [] # P(S_0 | X_i)\n",
    "prob_s1_x = [] # P(S_1 | X_i)\n",
    "prob_x = [] # P(X_i)\n",
    "\n",
    "k = 2\n",
    "\n",
    "for p in data:\n",
    "    print(\"point = \", p)\n",
    "    pdf_i = []\n",
    "\n",
    "    for j in range(k):\n",
    "        # P(X_i | S_j)\n",
    "        pdf_i.append(norm.pdf(p, mean[j], var[j]))\n",
    "        print(\"probability of observing that point if it came from cluster \" + str(j) + \" = \", pdf_i[j])\n",
    "        # P(S_j) already computed\n",
    "        prob_s[j]\n",
    "\n",
    "    # P(X_i) = P(S_0)P(X_i | S_0) + P(S_1)P(X_i | S_1)\n",
    "    prob_x = prob_s[0] * pdf_i[0] + prob_s[1] * pdf_i[1]\n",
    "\n",
    "    # P(S_j | X_i) = P(X_i | S_j)P(S_j) / P(X_i)\n",
    "    prob_s0_x.append( pdf_i[0]* prob_s[0]/prob_x )\n",
    "    prob_s1_x.append( pdf_i[1]* prob_s[1]/prob_x )\n",
    "\n",
    "probs = zip(data, prob_s0_x, prob_s1_x)\n",
    "for p in probs:\n",
    "    print(p[0])\n",
    "    print(\"Probability of coming from S_1 = \" + str(p[1]))\n",
    "    print(\"Probability of coming from S_2 = \" + str(p[2]))\n",
    "    print()\n"
   ]
  },
  {
   "cell_type": "markdown",
   "metadata": {},
   "source": [
    "f) Having computed `P(S_j | X_i)`, update the estimates of `mean_j`, `var_j`, and `P(S_j)`. How different are these values from the original ones you got from K means? briefly comment."
   ]
  },
  {
   "cell_type": "code",
   "execution_count": 16,
   "metadata": {},
   "outputs": [
    {
     "name": "stdout",
     "output_type": "stream",
     "text": [
      "P(S_1) = 0.5,  P(S_2) = 0.5\n",
      "mean_1 = 4.546645872844319,  mean_2 = 6.621066561206644\n",
      "var_1 = 0.8793178402837301,  var_2 = 6.7404206748700615\n"
     ]
    }
   ],
   "source": [
    "prob_c = [sum(prob_s0_x)/ len(prob_s0_x), sum(prob_s1_x)/ len(prob_s1_x) ]\n",
    "mean = [sum([x[0] * x[1] for x in zip(prob_s0_x, data)]) / sum(prob_s0_x),sum([x[0] * x[1] for x in zip(prob_s1_x, data)]) / sum(prob_s1_x) ]\n",
    "var = [ sum(map(lambda x : (x - mean[0])**2, s1)) / len(s1) , sum(map(lambda x : (x - mean[0])**2, s2)) / len(s2) ]\n",
    "\n",
    "print(\"P(S_1) = \" + str(prob_s[0]) + \",  P(S_2) = \" + str(prob_s[1]))\n",
    "print(\"mean_1 = \" + str(mean[0]) + \",  mean_2 = \" + str(mean[1]))\n",
    "print(\"var_1 = \" + str(var[0]) + \",  var_2 = \" + str(var[1]))"
   ]
  },
  {
   "cell_type": "markdown",
   "metadata": {},
   "source": []
  },
  {
   "cell_type": "markdown",
   "metadata": {},
   "source": [
    "g) Update `P(S_j | X_i)`. Comment on any differences or lack thereof you observe."
   ]
  },
  {
   "cell_type": "code",
   "execution_count": 17,
   "metadata": {},
   "outputs": [
    {
     "name": "stdout",
     "output_type": "stream",
     "text": [
      "point =  5.157532784999163\n",
      "probability of observing that point if it came from cluster 0 =  0.35641719977172587\n",
      "probability of observing that point if it came from cluster 1 =  0.05780770857243943\n",
      "point =  5.003250442593126\n",
      "probability of observing that point if it came from cluster 0 =  0.3964715268813267\n",
      "probability of observing that point if it came from cluster 1 =  0.05750605851370244\n",
      "point =  8.523764873205312\n",
      "probability of observing that point if it came from cluster 0 =  1.6388820906644147e-05\n",
      "probability of observing that point if it came from cluster 1 =  0.05687483016440633\n",
      "point =  3.793195791456715\n",
      "probability of observing that point if it came from cluster 0 =  0.31429222832205445\n",
      "probability of observing that point if it came from cluster 1 =  0.054200375337764124\n",
      "point =  7.050576014563395\n",
      "probability of observing that point if it came from cluster 0 =  0.007870034116903755\n",
      "probability of observing that point if it came from cluster 1 =  0.05906651583014785\n",
      "point =  2.748502542823276\n",
      "probability of observing that point if it came from cluster 0 =  0.056067508974404\n",
      "probability of observing that point if it came from cluster 1 =  0.050181823985479046\n",
      "point =  7.035623439783415\n",
      "probability of observing that point if it came from cluster 0 =  0.00825930322964523\n",
      "probability of observing that point if it came from cluster 1 =  0.05907472048045832\n",
      "point =  6.057103782665105\n",
      "probability of observing that point if it came from cluster 0 =  0.10375933586207989\n",
      "probability of observing that point if it came from cluster 1 =  0.05897975065206876\n",
      "point =  6.3182184089382645\n",
      "probability of observing that point if it came from cluster 0 =  0.05961412952080249\n",
      "probability of observing that point if it came from cluster 1 =  0.05912684483885325\n",
      "point =  4.428695932535211\n",
      "probability of observing that point if it came from cluster 0 =  0.4496318322236909\n",
      "probability of observing that point if it came from cluster 1 =  0.05613717628188882\n",
      "5.157532784999163\n",
      "Probability of coming from S_1 = 0.860443668625526\n",
      "Probability of coming from S_2 = 0.13955633137447393\n",
      "\n",
      "5.003250442593126\n",
      "Probability of coming from S_1 = 0.8733284189269753\n",
      "Probability of coming from S_2 = 0.12667158107302473\n",
      "\n",
      "8.523764873205312\n",
      "Probability of coming from S_1 = 0.0002880729433987885\n",
      "Probability of coming from S_2 = 0.9997119270566012\n",
      "\n",
      "3.793195791456715\n",
      "Probability of coming from S_1 = 0.8529132612175839\n",
      "Probability of coming from S_2 = 0.1470867387824161\n",
      "\n",
      "7.050576014563395\n",
      "Probability of coming from S_1 = 0.11757454071249769\n",
      "Probability of coming from S_2 = 0.8824254592875022\n",
      "\n",
      "2.748502542823276\n",
      "Probability of coming from S_1 = 0.5276975150100341\n",
      "Probability of coming from S_2 = 0.4723024849899659\n",
      "\n",
      "7.035623439783415\n",
      "Probability of coming from S_1 = 0.12266166158737833\n",
      "Probability of coming from S_2 = 0.8773383384126217\n",
      "\n",
      "6.057103782665105\n",
      "Probability of coming from S_1 = 0.6375809160822528\n",
      "Probability of coming from S_2 = 0.3624190839177472\n",
      "\n",
      "6.3182184089382645\n",
      "Probability of coming from S_1 = 0.5020518809306436\n",
      "Probability of coming from S_2 = 0.4979481190693563\n",
      "\n",
      "4.428695932535211\n",
      "Probability of coming from S_1 = 0.8890062946961499\n",
      "Probability of coming from S_2 = 0.11099370530385021\n",
      "\n"
     ]
    }
   ],
   "source": [
    "from scipy.stats import norm\n",
    "\n",
    "prob_s0_x = [] # P(S_0 | X_i)\n",
    "prob_s1_x = [] # P(S_1 | X_i)\n",
    "prob_x = [] # P(X_i)\n",
    "\n",
    "k = 2\n",
    "\n",
    "for p in data:\n",
    "    print(\"point = \", p)\n",
    "    pdf_i = []\n",
    "\n",
    "    for j in range(k):\n",
    "        # P(X_i | S_j)\n",
    "        pdf_i.append(norm.pdf(p, mean[j], var[j]))\n",
    "        print(\"probability of observing that point if it came from cluster \" + str(j) + \" = \", pdf_i[j])\n",
    "        # P(S_j) already computed\n",
    "        prob_s[j]\n",
    "\n",
    "    # P(X_i) = P(S_0)P(X_i | S_0) + P(S_1)P(X_i | S_1)\n",
    "    prob_x = prob_s[0] * pdf_i[0] + prob_s[1] * pdf_i[1]\n",
    "\n",
    "    # P(S_j | X_i) = P(X_i | S_j)P(S_j) / P(X_i)\n",
    "    prob_s0_x.append( pdf_i[0]* prob_s[0]/prob_x )\n",
    "    prob_s1_x.append( pdf_i[1]* prob_s[1]/prob_x )\n",
    "\n",
    "probs = zip(data, prob_s0_x, prob_s1_x)\n",
    "for p in probs:\n",
    "    print(p[0])\n",
    "    print(\"Probability of coming from S_1 = \" + str(p[1]))\n",
    "    print(\"Probability of coming from S_2 = \" + str(p[2]))\n",
    "    print()"
   ]
  },
  {
   "cell_type": "markdown",
   "metadata": {},
   "source": []
  },
  {
   "cell_type": "markdown",
   "metadata": {},
   "source": [
    "h) Use `P(S_j | X_i)` to create a hard assignment - label each point as belonging to a specific cluster (0 or 1)"
   ]
  },
  {
   "cell_type": "code",
   "execution_count": 18,
   "metadata": {},
   "outputs": [
    {
     "name": "stdout",
     "output_type": "stream",
     "text": [
      "5.157532784999163 is in cluster 0\n",
      "5.003250442593126 is in cluster 0\n",
      "8.523764873205312 is in cluster 1\n",
      "3.793195791456715 is in cluster 0\n",
      "7.050576014563395 is in cluster 1\n",
      "2.748502542823276 is in cluster 0\n",
      "7.035623439783415 is in cluster 1\n",
      "6.057103782665105 is in cluster 0\n",
      "6.3182184089382645 is in cluster 0\n",
      "4.428695932535211 is in cluster 0\n"
     ]
    }
   ],
   "source": [
    "probabilities= zip(data, prob_s0_x, prob_s1_x)\n",
    "for prob in probabilities:\n",
    "    if prob[1]>prob[2]:\n",
    "        print(str(prob[0])+\" is in cluster 0\")\n",
    "    else:\n",
    "        print(str(prob[0])+\" is in cluster 1\")"
   ]
  }
 ],
 "metadata": {
  "kernelspec": {
   "display_name": "Python 3",
   "language": "python",
   "name": "python3"
  },
  "language_info": {
   "codemirror_mode": {
    "name": "ipython",
    "version": 3
   },
   "file_extension": ".py",
   "mimetype": "text/x-python",
   "name": "python",
   "nbconvert_exporter": "python",
   "pygments_lexer": "ipython3",
   "version": "3.11.4"
  },
  "orig_nbformat": 4,
  "vscode": {
   "interpreter": {
    "hash": "e7370f93d1d0cde622a1f8e1c04877d8463912d04d973331ad4851f04de6915a"
   }
  }
 },
 "nbformat": 4,
 "nbformat_minor": 2
}
